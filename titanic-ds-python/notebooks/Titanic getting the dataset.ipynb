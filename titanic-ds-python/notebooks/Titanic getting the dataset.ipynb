{
 "cells": [
  {
   "cell_type": "code",
   "execution_count": 2,
   "metadata": {},
   "outputs": [
    {
     "name": "stdout",
     "output_type": "stream",
     "text": [
      "Requirement already satisfied: python-dotenv in /Users/mildo/anaconda3/lib/python3.7/site-packages (0.10.3)\r\n"
     ]
    }
   ],
   "source": [
    "!pip install python-dotenv"
   ]
  },
  {
   "cell_type": "code",
   "execution_count": 3,
   "metadata": {},
   "outputs": [],
   "source": [
    "from dotenv import load_dotenv, find_dotenv"
   ]
  },
  {
   "cell_type": "code",
   "execution_count": 4,
   "metadata": {},
   "outputs": [],
   "source": [
    "dotenv_path = find_dotenv()"
   ]
  },
  {
   "cell_type": "code",
   "execution_count": 5,
   "metadata": {},
   "outputs": [
    {
     "data": {
      "text/plain": [
       "True"
      ]
     },
     "execution_count": 5,
     "metadata": {},
     "output_type": "execute_result"
    }
   ],
   "source": [
    "load_dotenv(dotenv_path)"
   ]
  },
  {
   "cell_type": "code",
   "execution_count": 6,
   "metadata": {},
   "outputs": [
    {
     "name": "stdout",
     "output_type": "stream",
     "text": [
      "/Users/mildo/MyDocuments/datascience/titanic-ds-python/titanic-ds-python/.env\n"
     ]
    }
   ],
   "source": [
    "print (dotenv_path)"
   ]
  },
  {
   "cell_type": "code",
   "execution_count": 8,
   "metadata": {},
   "outputs": [
    {
     "name": "stdout",
     "output_type": "stream",
     "text": [
      "mildopslearn\n"
     ]
    }
   ],
   "source": [
    "import os\n",
    "KAGGLE_USERNAME = os.environ.get(\"KAGGLE_USERNAME\")\n",
    "print(KAGGLE_USERNAME)"
   ]
  },
  {
   "cell_type": "code",
   "execution_count": 9,
   "metadata": {},
   "outputs": [],
   "source": [
    "import requests"
   ]
  },
  {
   "cell_type": "code",
   "execution_count": 10,
   "metadata": {},
   "outputs": [],
   "source": [
    "from requests import session"
   ]
  },
  {
   "cell_type": "code",
   "execution_count": 37,
   "metadata": {},
   "outputs": [
    {
     "name": "stdout",
     "output_type": "stream",
     "text": [
      "Requirement already satisfied: kaggle in /Users/mildo/.local/lib/python3.7/site-packages (1.5.5)\n",
      "Requirement already satisfied: requests in /Users/mildo/anaconda3/lib/python3.7/site-packages (from kaggle) (2.22.0)\n",
      "Requirement already satisfied: python-slugify in /Users/mildo/.local/lib/python3.7/site-packages (from kaggle) (3.0.3)\n",
      "Requirement already satisfied: six>=1.10 in /Users/mildo/anaconda3/lib/python3.7/site-packages (from kaggle) (1.12.0)\n",
      "Requirement already satisfied: python-dateutil in /Users/mildo/anaconda3/lib/python3.7/site-packages (from kaggle) (2.8.0)\n",
      "Requirement already satisfied: certifi in /Users/mildo/anaconda3/lib/python3.7/site-packages (from kaggle) (2019.6.16)\n",
      "Requirement already satisfied: tqdm in /Users/mildo/anaconda3/lib/python3.7/site-packages (from kaggle) (4.32.1)\n",
      "Requirement already satisfied: urllib3<1.25,>=1.21.1 in /Users/mildo/anaconda3/lib/python3.7/site-packages (from kaggle) (1.24.2)\n",
      "Requirement already satisfied: chardet<3.1.0,>=3.0.2 in /Users/mildo/anaconda3/lib/python3.7/site-packages (from requests->kaggle) (3.0.4)\n",
      "Requirement already satisfied: idna<2.9,>=2.5 in /Users/mildo/anaconda3/lib/python3.7/site-packages (from requests->kaggle) (2.8)\n",
      "Requirement already satisfied: text-unidecode==1.2 in /Users/mildo/.local/lib/python3.7/site-packages (from python-slugify->kaggle) (1.2)\n",
      "Warning: Your Kaggle API key is readable by other users on this system! To fix this, you can run 'chmod 600 /Users/mildo/.kaggle/kaggle.json'\n",
      "Downloading train.csv to /Users/mildo/MyDocuments/datascience/titanic-ds-python/titanic-ds-python/notebooks\n",
      "100%|███████████████████████████████████████| 59.8k/59.8k [00:00<00:00, 172kB/s]\n",
      "100%|███████████████████████████████████████| 59.8k/59.8k [00:00<00:00, 172kB/s]\n",
      "Downloading test.csv to /Users/mildo/MyDocuments/datascience/titanic-ds-python/titanic-ds-python/notebooks\n",
      "100%|███████████████████████████████████████| 28.0k/28.0k [00:00<00:00, 124kB/s]\n",
      "100%|███████████████████████████████████████| 28.0k/28.0k [00:00<00:00, 123kB/s]\n",
      "Downloading gender_submission.csv to /Users/mildo/MyDocuments/datascience/titanic-ds-python/titanic-ds-python/notebooks\n",
      "  0%|                                               | 0.00/3.18k [00:00<?, ?B/s]\n",
      "100%|██████████████████████████████████████| 3.18k/3.18k [00:00<00:00, 4.48MB/s]\n"
     ]
    }
   ],
   "source": [
    "PATH = os.environ.get(\"PATH\");\n",
    "PATH = PATH + \"\"\n",
    "!pip install kaggle\n",
    "!kaggle competitions download -c titanic\n",
    "\n"
   ]
  },
  {
   "cell_type": "code",
   "execution_count": 55,
   "metadata": {},
   "outputs": [
    {
     "name": "stdout",
     "output_type": "stream",
     "text": [
      "Warning: Your Kaggle API key is readable by other users on this system! To fix this, you can run 'chmod 600 /Users/mildo/.kaggle/kaggle.json'\n",
      "Downloading train.csv to /Users/mildo/MyDocuments/datascience/titanic-ds-python/titanic-ds-python/notebooks\n",
      "100%|███████████████████████████████████████| 59.8k/59.8k [00:00<00:00, 171kB/s]\n",
      "100%|███████████████████████████████████████| 59.8k/59.8k [00:00<00:00, 170kB/s]\n",
      "Downloading test.csv to /Users/mildo/MyDocuments/datascience/titanic-ds-python/titanic-ds-python/notebooks\n",
      "  0%|                                               | 0.00/28.0k [00:00<?, ?B/s]\n",
      "100%|███████████████████████████████████████| 28.0k/28.0k [00:00<00:00, 286kB/s]\n",
      "Downloading gender_submission.csv to /Users/mildo/MyDocuments/datascience/titanic-ds-python/titanic-ds-python/notebooks\n",
      "  0%|                                               | 0.00/3.18k [00:00<?, ?B/s]\n",
      "100%|██████████████████████████████████████| 3.18k/3.18k [00:00<00:00, 1.67MB/s]\n"
     ]
    }
   ],
   "source": [
    "!kaggle competitions download -c titanic\n",
    "\n"
   ]
  },
  {
   "cell_type": "code",
   "execution_count": 56,
   "metadata": {},
   "outputs": [],
   "source": [
    "!cp *.csv ../data/raw\n"
   ]
  },
  {
   "cell_type": "code",
   "execution_count": 58,
   "metadata": {},
   "outputs": [
    {
     "name": "stdout",
     "output_type": "stream",
     "text": [
      "total 184\r\n",
      "-rw-r--r--  1 mildo  staff   3258 Aug 24 16:23 gender_submission.csv\r\n",
      "-rw-r--r--  1 mildo  staff  28629 Aug 24 16:23 test.csv\r\n",
      "-rw-r--r--  1 mildo  staff  61194 Aug 24 16:23 train.csv\r\n"
     ]
    }
   ],
   "source": [
    "!ls -l ../data/raw"
   ]
  },
  {
   "cell_type": "code",
   "execution_count": 59,
   "metadata": {},
   "outputs": [],
   "source": [
    "# imports\n",
    "import requests\n",
    "from requests import session\n",
    "import os\n",
    "from dotenv import load_dotenv, find_dotenv\n",
    "\n"
   ]
  },
  {
   "cell_type": "code",
   "execution_count": 62,
   "metadata": {},
   "outputs": [
    {
     "name": "stdout",
     "output_type": "stream",
     "text": [
      "/Users/mildo/MyDocuments/datascience/titanic-ds-python/titanic-ds-python/notebooks\r\n"
     ]
    }
   ],
   "source": [
    "!pwd"
   ]
  },
  {
   "cell_type": "code",
   "execution_count": 63,
   "metadata": {},
   "outputs": [
    {
     "name": "stdout",
     "output_type": "stream",
     "text": [
      "../data/raw\n",
      "../data/raw/train.csv\n",
      "../data/raw/test.csv\n"
     ]
    }
   ],
   "source": [
    "# file paths\n",
    "raw_data_path = os.path.join(os.path.pardir,'data','raw')\n",
    "train_data_path = os.path.join(raw_data_path, 'train.csv')\n",
    "test_data_path = os.path.join(raw_data_path, 'test.csv')\n",
    "\n",
    "print (raw_data_path)\n",
    "print (train_data_path)\n",
    "print (test_data_path)"
   ]
  },
  {
   "cell_type": "code",
   "execution_count": 64,
   "metadata": {},
   "outputs": [
    {
     "name": "stdout",
     "output_type": "stream",
     "text": [
      "PassengerId,Survived,Pclass,Name,Sex,Age,SibSp,Parch,Ticket,Fare,Cabin,Embarked\r",
      "\r\n",
      "1,0,3,\"Braund, Mr. Owen Harris\",male,22,1,0,A/5 21171,7.25,,S\r",
      "\r\n",
      "2,1,1,\"Cumings, Mrs. John Bradley (Florence Briggs Thayer)\",female,38,1,0,PC 17599,71.2833,C85,C\r",
      "\r\n",
      "3,1,3,\"Heikkinen, Miss. Laina\",female,26,0,0,STON/O2. 3101282,7.925,,S\r",
      "\r\n",
      "4,1,1,\"Futrelle, Mrs. Jacques Heath (Lily May Peel)\",female,35,1,0,113803,53.1,C123,S\r",
      "\r\n"
     ]
    }
   ],
   "source": [
    "!head -n 5 ../data/raw/train.csv"
   ]
  },
  {
   "cell_type": "code",
   "execution_count": 71,
   "metadata": {},
   "outputs": [
    {
     "data": {
      "text/plain": [
       "'PassengerId,Survived,Pclass,Name,Sex,Age,SibSp,Parch,Ticket,Fare,Cabin,Embarked\\n'"
      ]
     },
     "execution_count": 71,
     "metadata": {},
     "output_type": "execute_result"
    }
   ],
   "source": [
    "open(train_data_path,\"r\").readline()"
   ]
  },
  {
   "cell_type": "code",
   "execution_count": null,
   "metadata": {},
   "outputs": [],
   "source": []
  }
 ],
 "metadata": {
  "kernelspec": {
   "display_name": "Python 3",
   "language": "python",
   "name": "python3"
  },
  "language_info": {
   "codemirror_mode": {
    "name": "ipython",
    "version": 3
   },
   "file_extension": ".py",
   "mimetype": "text/x-python",
   "name": "python",
   "nbconvert_exporter": "python",
   "pygments_lexer": "ipython3",
   "version": "3.7.3"
  }
 },
 "nbformat": 4,
 "nbformat_minor": 2
}
