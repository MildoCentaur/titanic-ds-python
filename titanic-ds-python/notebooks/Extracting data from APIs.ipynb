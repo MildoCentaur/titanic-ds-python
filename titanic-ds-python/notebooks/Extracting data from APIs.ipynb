{
 "cells": [
  {
   "cell_type": "markdown",
   "metadata": {},
   "source": [
    "# Extracting Data from APIS\n",
    "\n",
    "Basic usage"
   ]
  },
  {
   "cell_type": "code",
   "execution_count": 4,
   "metadata": {},
   "outputs": [
    {
     "name": "stdout",
     "output_type": "stream",
     "text": [
      "Requirement already satisfied: requests in /usr/local/lib/python3.7/site-packages (2.22.0)\r\n",
      "Requirement already satisfied: urllib3!=1.25.0,!=1.25.1,<1.26,>=1.21.1 in /usr/local/lib/python3.7/site-packages (from requests) (1.25.3)\r\n",
      "Requirement already satisfied: chardet<3.1.0,>=3.0.2 in /usr/local/lib/python3.7/site-packages (from requests) (3.0.4)\r\n",
      "Requirement already satisfied: idna<2.9,>=2.5 in /usr/local/lib/python3.7/site-packages (from requests) (2.8)\r\n",
      "Requirement already satisfied: certifi>=2017.4.17 in /usr/local/lib/python3.7/site-packages (from requests) (2019.6.16)\r\n"
     ]
    }
   ],
   "source": [
    "import sys\n",
    "!{sys.executable} -m pip install requests\n",
    "\n",
    "import requests"
   ]
  },
  {
   "cell_type": "code",
   "execution_count": 24,
   "metadata": {},
   "outputs": [],
   "source": [
    "url = \"https://community-open-weather-map.p.rapidapi.com/weather\"\n",
    "\n",
    "querystring = {\"callback\":\"test\",\"id\":\"2172797\",\"units\":\"\\\"metric\\\" or \\\"imperial\\\"\",\"mode\":\"xml, html\",\"q\":\"London,uk\"}\n",
    "\n",
    "headers = {\n",
    "    'x-rapidapi-host': \"community-open-weather-map.p.rapidapi.com\",\n",
    "    'x-rapidapi-key': \"0d04dc77c9msh68758276d0efcc5p15dc43jsn4fa387d86947\"\n",
    "    }\n",
    "\n",
    "response = requests.request(\"GET\", url, headers=headers, params=querystring)"
   ]
  },
  {
   "cell_type": "code",
   "execution_count": 25,
   "metadata": {},
   "outputs": [
    {
     "name": "stdout",
     "output_type": "stream",
     "text": [
      "200\n",
      "{'Access-Control-Allow-Credentials': 'true', 'Access-Control-Allow-Methods': 'GET, POST', 'Access-Control-Allow-Origin': '*', 'Content-Type': 'text/plain; charset=utf-8', 'Date': 'Thu, 22 Aug 2019 22:56:12 GMT', 'Server': 'RapidAPI-1.0.31', 'X-Cache-Key': '/data/2.5/weather?callback=test&id=2172797&mode=xml%2C%20html&q=london%2cuk&units=%22metric%22%20or%20%22imperial%22', 'X-RapidAPI-Region': 'AWS - sa-east-1', 'X-RapidAPI-Version': '1.0.31', 'Content-Length': '471', 'Connection': 'keep-alive'}\n",
      "\n",
      "test({\"coord\":{\"lon\":-0.13,\"lat\":51.51},\"weather\":[{\"id\":803,\"main\":\"Clouds\",\"description\":\"broken clouds\",\"icon\":\"04n\"}],\"base\":\"stations\",\"main\":{\"temp\":288.99,\"pressure\":1025,\"humidity\":82,\"temp_min\":286.48,\"temp_max\":291.48},\"visibility\":10000,\"wind\":{\"speed\":3.1,\"deg\":240},\"clouds\":{\"all\":80},\"dt\":1566513903,\"sys\":{\"type\":1,\"id\":1417,\"message\":0.0094,\"country\":\"GB\",\"sunrise\":1566449802,\"sunset\":1566501043},\"timezone\":3600,\"id\":2643743,\"name\":\"London\",\"cod\":200})\n"
     ]
    }
   ],
   "source": [
    "print(response.status_code)\n",
    "print(response.headers)\n",
    "print(\"\")\n",
    "print(response.text)\n"
   ]
  },
  {
   "cell_type": "code",
   "execution_count": 27,
   "metadata": {},
   "outputs": [
    {
     "data": {
      "text/plain": [
       "{'coord': {'lon': -0.13, 'lat': 51.51},\n",
       " 'weather': [{'id': 803,\n",
       "   'main': 'Clouds',\n",
       "   'description': 'broken clouds',\n",
       "   'icon': '04n'}],\n",
       " 'base': 'stations',\n",
       " 'main': {'temp': 288.98,\n",
       "  'pressure': 1025,\n",
       "  'humidity': 82,\n",
       "  'temp_min': 286.48,\n",
       "  'temp_max': 291.48},\n",
       " 'visibility': 10000,\n",
       " 'wind': {'speed': 3.1, 'deg': 240},\n",
       " 'clouds': {'all': 80},\n",
       " 'dt': 1566514506,\n",
       " 'sys': {'type': 1,\n",
       "  'id': 1417,\n",
       "  'message': 0.01,\n",
       "  'country': 'GB',\n",
       "  'sunrise': 1566449802,\n",
       "  'sunset': 1566501043},\n",
       " 'timezone': 3600,\n",
       " 'id': 2643743,\n",
       " 'name': 'London',\n",
       " 'cod': 200}"
      ]
     },
     "execution_count": 27,
     "metadata": {},
     "output_type": "execute_result"
    }
   ],
   "source": [
    "querystring = {\"id\":\"2172797\",\"units\":\"\\\"metric\\\" or \\\"imperial\\\"\",\"mode\":\"xml, html\",\"q\":\"London,uk\"}\n",
    "\n",
    "headers = {\n",
    "    'x-rapidapi-host': \"community-open-weather-map.p.rapidapi.com\",\n",
    "    'x-rapidapi-key': \"0d04dc77c9msh68758276d0efcc5p15dc43jsn4fa387d86947\"\n",
    "    }\n",
    "\n",
    "response = requests.request(\"GET\", url, headers=headers, params=querystring)\n",
    "response.json()"
   ]
  },
  {
   "cell_type": "code",
   "execution_count": null,
   "metadata": {},
   "outputs": [],
   "source": []
  }
 ],
 "metadata": {
  "kernelspec": {
   "display_name": "Python 3",
   "language": "python",
   "name": "python3"
  },
  "language_info": {
   "codemirror_mode": {
    "name": "ipython",
    "version": 3
   },
   "file_extension": ".py",
   "mimetype": "text/x-python",
   "name": "python",
   "nbconvert_exporter": "python",
   "pygments_lexer": "ipython3",
   "version": "3.7.3"
  }
 },
 "nbformat": 4,
 "nbformat_minor": 2
}
