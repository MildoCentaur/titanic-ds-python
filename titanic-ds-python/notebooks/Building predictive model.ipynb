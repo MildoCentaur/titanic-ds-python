{
 "cells": [
  {
   "cell_type": "markdown",
   "metadata": {},
   "source": [
    "# Building Predictive models"
   ]
  },
  {
   "cell_type": "code",
   "execution_count": 1,
   "metadata": {},
   "outputs": [],
   "source": [
    "import pandas as pd\n",
    "import os\n",
    "import numpy as np"
   ]
  },
  {
   "cell_type": "markdown",
   "metadata": {},
   "source": [
    "## Importing data"
   ]
  },
  {
   "cell_type": "code",
   "execution_count": 2,
   "metadata": {},
   "outputs": [],
   "source": [
    "# set the path of the processed data\n",
    "processed_data_path = os.path.join(os.path.pardir,'data','processed')\n",
    "train_file_path = os.path.join(processed_data_path, 'train.csv')\n",
    "test_file_path = os.path.join(processed_data_path, 'test.csv')"
   ]
  },
  {
   "cell_type": "code",
   "execution_count": 3,
   "metadata": {},
   "outputs": [],
   "source": [
    "train_df = pd.read_csv(train_file_path, index_col='PassengerId')\n",
    "test_df = pd.read_csv(test_file_path, index_col='PassengerId')"
   ]
  },
  {
   "cell_type": "code",
   "execution_count": 4,
   "metadata": {},
   "outputs": [],
   "source": [
    "X = train_df.loc[:,'Age':].values.astype('float')\n",
    "# uso ravel para convertir el dataframe en un arrego 1D \n",
    "# podria haber usado train_df['Survived'].values y obtenia el mismo resultado\n",
    "# si en lugar de tener un dataset hubiese tenido un arreglo no hubiese tenido la propiedad values\n",
    "\n",
    "y = train_df['Survived'].ravel()"
   ]
  },
  {
   "cell_type": "code",
   "execution_count": 181,
   "metadata": {},
   "outputs": [
    {
     "name": "stdout",
     "output_type": "stream",
     "text": [
      "37 (891,)\n",
      "<class 'pandas.core.frame.DataFrame'>\n",
      "Int64Index: 891 entries, 1 to 891\n",
      "Data columns (total 38 columns):\n",
      "Survived              891 non-null int64\n",
      "Age                   891 non-null float64\n",
      "Fare                  891 non-null float64\n",
      "FamilySize            891 non-null int64\n",
      "IsMother              891 non-null int64\n",
      "IsMale                891 non-null int64\n",
      "WCG                   891 non-null int64\n",
      "RichOldLady           891 non-null int64\n",
      "PoorOldMan            891 non-null int64\n",
      "Deck_A                891 non-null int64\n",
      "Deck_B                891 non-null int64\n",
      "Deck_C                891 non-null int64\n",
      "Deck_D                891 non-null int64\n",
      "Deck_E                891 non-null int64\n",
      "Deck_F                891 non-null int64\n",
      "Deck_G                891 non-null int64\n",
      "Deck_Z                891 non-null int64\n",
      "Pclass_1              891 non-null int64\n",
      "Pclass_2              891 non-null int64\n",
      "Pclass_3              891 non-null int64\n",
      "Title_Lady            891 non-null int64\n",
      "Title_Master          891 non-null int64\n",
      "Title_Miss            891 non-null int64\n",
      "Title_Mr              891 non-null int64\n",
      "Title_Mrs             891 non-null int64\n",
      "Title_Officer         891 non-null int64\n",
      "Title_Sir             891 non-null int64\n",
      "Fare_Bin_very_low     891 non-null int64\n",
      "Fare_Bin_low          891 non-null int64\n",
      "Fare_Bin_high         891 non-null int64\n",
      "Fare_Bin_very_high    891 non-null int64\n",
      "Embarked_C            891 non-null int64\n",
      "Embarked_Q            891 non-null int64\n",
      "Embarked_S            891 non-null int64\n",
      "AgeState_Adult        891 non-null int64\n",
      "AgeState_Child        891 non-null int64\n",
      "DeckSurvived_AGZ      891 non-null int64\n",
      "DeckSurvived_BCDEF    891 non-null int64\n",
      "dtypes: float64(2), int64(36)\n",
      "memory usage: 271.5 KB\n"
     ]
    }
   ],
   "source": [
    "print (X.shape[1], y.shape)\n",
    "train_df.info()"
   ]
  },
  {
   "cell_type": "code",
   "execution_count": 6,
   "metadata": {},
   "outputs": [
    {
     "name": "stdout",
     "output_type": "stream",
     "text": [
      "(712, 37) (712,)\n",
      "(179, 37) (179,)\n"
     ]
    }
   ],
   "source": [
    "# train test split\n",
    "# uso la data de training para testear el modelo \n",
    "# el datase de test provisto por kaggle es en realidad production data \n",
    "# como no tenemos el resultodo (sobrevivio o no) no sirve para ver si el modelo funciona o no\n",
    "\n",
    "from sklearn.model_selection import train_test_split\n",
    "X_train, X_test, y_train, y_test = train_test_split(X, y, test_size=0.2, random_state=0)\n",
    "print (X_train.shape, y_train.shape)\n",
    "print (X_test.shape, y_test.shape)"
   ]
  },
  {
   "cell_type": "code",
   "execution_count": 7,
   "metadata": {},
   "outputs": [
    {
     "name": "stdout",
     "output_type": "stream",
     "text": [
      "[35.     15.2458  3.      1.      0.      1.      0.      0.      0.\n",
      "  0.      0.      0.      0.      0.      0.      1.      0.      0.\n",
      "  1.      0.      0.      0.      0.      1.      0.      0.      0.\n",
      "  0.      1.      0.      1.      0.      0.      1.      0.      1.\n",
      "  0.    ]\n"
     ]
    }
   ],
   "source": [
    "print (X_train[0])"
   ]
  },
  {
   "cell_type": "code",
   "execution_count": 8,
   "metadata": {},
   "outputs": [
    {
     "name": "stdout",
     "output_type": "stream",
     "text": [
      "mean survival in train : 0.383\n",
      "mean survival in test : 0.385\n"
     ]
    }
   ],
   "source": [
    "# average survival in train and test\n",
    "print ('mean survival in train : {0:.3f}'.format(np.mean(y_train)))\n",
    "print ('mean survival in test : {0:.3f}'.format(np.mean(y_test)))"
   ]
  },
  {
   "cell_type": "markdown",
   "metadata": {},
   "source": [
    "#### Check Scikit-Learn Version"
   ]
  },
  {
   "cell_type": "code",
   "execution_count": 9,
   "metadata": {},
   "outputs": [
    {
     "data": {
      "text/plain": [
       "'0.21.3'"
      ]
     },
     "execution_count": 9,
     "metadata": {},
     "output_type": "execute_result"
    }
   ],
   "source": [
    "import sklearn\n",
    "sklearn.__version__\n",
    "## Tiene que ser mayor a 0.19\n",
    "#!conda update -y scikit-learn"
   ]
  },
  {
   "cell_type": "markdown",
   "metadata": {},
   "source": [
    "### Build Baseline model"
   ]
  },
  {
   "cell_type": "code",
   "execution_count": 10,
   "metadata": {},
   "outputs": [],
   "source": [
    "# import function\n",
    "from sklearn.dummy import DummyClassifier"
   ]
  },
  {
   "cell_type": "code",
   "execution_count": 11,
   "metadata": {},
   "outputs": [],
   "source": [
    "# create model\n",
    "linear_model = DummyClassifier(strategy='most_frequent', random_state=0)\n",
    "# baseline simepre va a predecir la mayoria de los casos en el dataset \n",
    "# en este caso el la mayoria de los casos son para gente que no sobrevivio \n",
    "# aprox 38% sobrevivieron y el resto no \n",
    "#random seed is the same as used when separating the dataset but it is not necesary"
   ]
  },
  {
   "cell_type": "code",
   "execution_count": 12,
   "metadata": {},
   "outputs": [
    {
     "data": {
      "text/plain": [
       "DummyClassifier(constant=None, random_state=0, strategy='most_frequent')"
      ]
     },
     "execution_count": 12,
     "metadata": {},
     "output_type": "execute_result"
    }
   ],
   "source": [
    "# train model\n",
    "linear_model.fit(X_train, y_train)\n",
    "#inout data y output data"
   ]
  },
  {
   "cell_type": "code",
   "execution_count": 13,
   "metadata": {},
   "outputs": [
    {
     "name": "stdout",
     "output_type": "stream",
     "text": [
      "score for baseline model : 0.61\n"
     ]
    }
   ],
   "source": [
    "#Evaluating the performance on the test dataset\n",
    "print ('score for baseline model : {0:.2f}'.format(linear_model.score(X_test, y_test)))\n",
    "#score primero evalua el moelo con el dataset X_test,\n",
    "#luego compara el resultado con y_test que es el resultado verdadero\n",
    "\n",
    "#Este es el accuracy del modelo es decir los casos acertados sobre los casos totales\n"
   ]
  },
  {
   "cell_type": "markdown",
   "metadata": {},
   "source": [
    "### El resultado anterior quiere decir que para predecir quien murio en el accidente, utilizando un modelo de regresion lineal, se puede obtener  una certeza del 61%."
   ]
  },
  {
   "cell_type": "code",
   "execution_count": 14,
   "metadata": {},
   "outputs": [],
   "source": [
    "# peformance metrics\n",
    "from sklearn.metrics import accuracy_score, confusion_matrix, precision_score, recall_score\n",
    "from sklearn.utils.multiclass import unique_labels"
   ]
  },
  {
   "cell_type": "code",
   "execution_count": 15,
   "metadata": {},
   "outputs": [
    {
     "name": "stdout",
     "output_type": "stream",
     "text": [
      "accuracy for baseline model : 0.61\n"
     ]
    }
   ],
   "source": [
    "# accuracy score\n",
    "print ('accuracy for baseline model : {0:.2f}'.format(accuracy_score(y_test, linear_model.predict(X_test))))"
   ]
  },
  {
   "cell_type": "code",
   "execution_count": 16,
   "metadata": {},
   "outputs": [
    {
     "name": "stdout",
     "output_type": "stream",
     "text": [
      "confusion matrix for baseline model: \n",
      " [[110   0]\n",
      " [ 69   0]]\n"
     ]
    }
   ],
   "source": [
    "# confusion matrix\n",
    "\n",
    "cm = confusion_matrix(y_test, linear_model.predict(X_test))\n",
    "print( 'confusion matrix for baseline model: \\n {0}'.format(cm))\n"
   ]
  },
  {
   "cell_type": "markdown",
   "metadata": {},
   "source": [
    "# Solo predice el valor de 0 de la clase negativa"
   ]
  },
  {
   "cell_type": "code",
   "execution_count": 17,
   "metadata": {},
   "outputs": [],
   "source": [
    "## |        | Predicted       |    Predicted\n",
    "## |        | Negative        |    Positive\n",
    "## |Actual  |    110          |      0\n",
    "## |Negative| (True Negative) |  (False Positive)\n",
    "## |        |                 |\n",
    "#  |Actual  |     69          |      0\n",
    "## |Positive|                 |\n",
    "## |________|_(False Negative)|    True Positive\n",
    "\n",
    "#Accuracy = (True Positives + True Negatives) / ( TN + FN + FP + TP)  \n",
    "#Presicion = True Positive / (TP+FP) \n",
    "#Recall = True Positive/(TP+FP)"
   ]
  },
  {
   "cell_type": "code",
   "execution_count": 18,
   "metadata": {},
   "outputs": [
    {
     "data": {
      "text/plain": [
       "<Figure size 640x480 with 2 Axes>"
      ]
     },
     "metadata": {},
     "output_type": "display_data"
    }
   ],
   "source": [
    "import matplotlib.pyplot as plt     \n",
    "\n",
    "labels = [0, 1]\n",
    "cm = confusion_matrix(y_test, linear_model.predict(X_test), labels)\n",
    "#print(cm)\n",
    "fig = plt.figure()\n",
    "ax = fig.add_subplot(111)\n",
    "cax = ax.matshow(cm)\n",
    "plt.title('Confusion matrix of the Titanic')\n",
    "fig.colorbar(cax)\n",
    "ax.set_xticklabels([''] + labels)\n",
    "ax.set_yticklabels([''] + labels)\n",
    "plt.xlabel('Predicted')\n",
    "plt.ylabel('True')\n",
    "plt.show()"
   ]
  },
  {
   "cell_type": "code",
   "execution_count": 19,
   "metadata": {},
   "outputs": [
    {
     "name": "stdout",
     "output_type": "stream",
     "text": [
      "precision for baseline model : 0.00\n"
     ]
    },
    {
     "name": "stderr",
     "output_type": "stream",
     "text": [
      "/Users/mildo/anaconda3/lib/python3.7/site-packages/sklearn/metrics/classification.py:1437: UndefinedMetricWarning: Precision is ill-defined and being set to 0.0 due to no predicted samples.\n",
      "  'precision', 'predicted', average, warn_for)\n"
     ]
    }
   ],
   "source": [
    "# precision and recall scores\n",
    "print ('precision for baseline model : {0:.2f}'.format(precision_score(y_test, linear_model.predict(X_test))))\n"
   ]
  },
  {
   "cell_type": "code",
   "execution_count": 20,
   "metadata": {},
   "outputs": [
    {
     "name": "stdout",
     "output_type": "stream",
     "text": [
      "recall for baseline model : 0.00\n"
     ]
    }
   ],
   "source": [
    "print ('recall for baseline model : {0:.2f}'.format(recall_score(y_test, linear_model.predict(X_test))))"
   ]
  },
  {
   "cell_type": "markdown",
   "metadata": {},
   "source": [
    "# Submit to kaggle"
   ]
  },
  {
   "cell_type": "code",
   "execution_count": 21,
   "metadata": {},
   "outputs": [],
   "source": [
    "# converting to the matrix\n",
    "test_X = test_df.values.astype('float')"
   ]
  },
  {
   "cell_type": "code",
   "execution_count": 22,
   "metadata": {},
   "outputs": [],
   "source": [
    "# get predictions\n",
    "predictions = linear_model.predict(test_X)"
   ]
  },
  {
   "cell_type": "code",
   "execution_count": 23,
   "metadata": {},
   "outputs": [],
   "source": [
    "df_submission = pd.DataFrame({'PassengerId': test_df.index, 'Survived' : predictions} )"
   ]
  },
  {
   "cell_type": "code",
   "execution_count": 24,
   "metadata": {},
   "outputs": [
    {
     "data": {
      "text/html": [
       "<div>\n",
       "<style scoped>\n",
       "    .dataframe tbody tr th:only-of-type {\n",
       "        vertical-align: middle;\n",
       "    }\n",
       "\n",
       "    .dataframe tbody tr th {\n",
       "        vertical-align: top;\n",
       "    }\n",
       "\n",
       "    .dataframe thead th {\n",
       "        text-align: right;\n",
       "    }\n",
       "</style>\n",
       "<table border=\"1\" class=\"dataframe\">\n",
       "  <thead>\n",
       "    <tr style=\"text-align: right;\">\n",
       "      <th></th>\n",
       "      <th>PassengerId</th>\n",
       "      <th>Survived</th>\n",
       "    </tr>\n",
       "  </thead>\n",
       "  <tbody>\n",
       "    <tr>\n",
       "      <th>0</th>\n",
       "      <td>892</td>\n",
       "      <td>0</td>\n",
       "    </tr>\n",
       "    <tr>\n",
       "      <th>1</th>\n",
       "      <td>893</td>\n",
       "      <td>0</td>\n",
       "    </tr>\n",
       "    <tr>\n",
       "      <th>2</th>\n",
       "      <td>894</td>\n",
       "      <td>0</td>\n",
       "    </tr>\n",
       "    <tr>\n",
       "      <th>3</th>\n",
       "      <td>895</td>\n",
       "      <td>0</td>\n",
       "    </tr>\n",
       "    <tr>\n",
       "      <th>4</th>\n",
       "      <td>896</td>\n",
       "      <td>0</td>\n",
       "    </tr>\n",
       "  </tbody>\n",
       "</table>\n",
       "</div>"
      ],
      "text/plain": [
       "   PassengerId  Survived\n",
       "0          892         0\n",
       "1          893         0\n",
       "2          894         0\n",
       "3          895         0\n",
       "4          896         0"
      ]
     },
     "execution_count": 24,
     "metadata": {},
     "output_type": "execute_result"
    }
   ],
   "source": [
    "df_submission.head()"
   ]
  },
  {
   "cell_type": "code",
   "execution_count": 25,
   "metadata": {},
   "outputs": [
    {
     "name": "stdout",
     "output_type": "stream",
     "text": [
      "/Users/mildo/MyDocuments/datascience/titanic-ds-python/titanic-ds-python/data/external\n"
     ]
    }
   ],
   "source": [
    "submission_data_path = os.path.join(os.path.pardir,'data','external')\n",
    "submission_file_path = os.path.join(submission_data_path, '01_linear.csv')\n",
    "print (os.path.abspath(submission_data_path))"
   ]
  },
  {
   "cell_type": "code",
   "execution_count": 26,
   "metadata": {},
   "outputs": [],
   "source": [
    "df_submission.to_csv(submission_file_path, index=False)"
   ]
  },
  {
   "cell_type": "code",
   "execution_count": 27,
   "metadata": {},
   "outputs": [],
   "source": [
    "def get_submission_file(model, filename):\n",
    "    # converting to the matrix\n",
    "    test_X = test_df.values.astype('float')\n",
    "    # make predictions\n",
    "    predictions = model.predict(test_X)\n",
    "    # submission dataframe\n",
    "    df_submission = pd.DataFrame({'PassengerId': test_df.index, 'Survived' : predictions})\n",
    "    # submission file\n",
    "    submission_data_path = os.path.join(os.path.pardir,'data','external')\n",
    "    submission_file_path = os.path.join(submission_data_path, filename)\n",
    "    # write to the file\n",
    "    df_submission.to_csv(submission_file_path, index=False)"
   ]
  },
  {
   "cell_type": "code",
   "execution_count": 28,
   "metadata": {},
   "outputs": [],
   "source": [
    "# get submission file\n",
    "get_submission_file(linear_model, '01_linear.csv')"
   ]
  },
  {
   "cell_type": "markdown",
   "metadata": {},
   "source": [
    "### Logistic Regression Model"
   ]
  },
  {
   "cell_type": "code",
   "execution_count": 29,
   "metadata": {},
   "outputs": [],
   "source": [
    "# import function\n",
    "from sklearn.linear_model import LogisticRegression"
   ]
  },
  {
   "cell_type": "code",
   "execution_count": 30,
   "metadata": {},
   "outputs": [],
   "source": [
    "# create model\n",
    "lg_model = LogisticRegression(random_state=0, solver='liblinear')"
   ]
  },
  {
   "cell_type": "code",
   "execution_count": 31,
   "metadata": {},
   "outputs": [
    {
     "data": {
      "text/plain": [
       "LogisticRegression(C=1.0, class_weight=None, dual=False, fit_intercept=True,\n",
       "                   intercept_scaling=1, l1_ratio=None, max_iter=100,\n",
       "                   multi_class='warn', n_jobs=None, penalty='l2',\n",
       "                   random_state=0, solver='liblinear', tol=0.0001, verbose=0,\n",
       "                   warm_start=False)"
      ]
     },
     "execution_count": 31,
     "metadata": {},
     "output_type": "execute_result"
    }
   ],
   "source": [
    "# train model\n",
    "lg_model.fit(X_train,y_train)"
   ]
  },
  {
   "cell_type": "code",
   "execution_count": 32,
   "metadata": {},
   "outputs": [
    {
     "name": "stdout",
     "output_type": "stream",
     "text": [
      "score for logistic regression - version 1 : 0.83\n"
     ]
    }
   ],
   "source": [
    "print ('score for logistic regression - version 1 : {0:.2f}'.format(lg_model.score(X_test, y_test)))"
   ]
  },
  {
   "cell_type": "code",
   "execution_count": 33,
   "metadata": {},
   "outputs": [
    {
     "name": "stdout",
     "output_type": "stream",
     "text": [
      "accuracy for logistic regression - version 1 : 0.83\n",
      "confusion matrix for logistic regression - version 1: \n",
      " [[95 15]\n",
      " [15 54]]\n",
      "precision for logistic regression - version 1 : 0.78\n",
      "recall for logistic regression - version 1 : 0.78\n"
     ]
    }
   ],
   "source": [
    "# performance metrics\n",
    "# accuracy\n",
    "print ('accuracy for logistic regression - version 1 : {0:.2f}'.format(accuracy_score(y_test, lg_model.predict(X_test))))\n",
    "# confusion matrix\n",
    "print ('confusion matrix for logistic regression - version 1: \\n {0}'.format(confusion_matrix(y_test, lg_model.predict(X_test))))\n",
    "# precision \n",
    "print ('precision for logistic regression - version 1 : {0:.2f}'.format(precision_score(y_test, lg_model.predict(X_test))))\n",
    "# precision \n",
    "print ('recall for logistic regression - version 1 : {0:.2f}'.format(recall_score(y_test, lg_model.predict(X_test))))"
   ]
  },
  {
   "cell_type": "code",
   "execution_count": 34,
   "metadata": {},
   "outputs": [
    {
     "data": {
      "text/plain": [
       "array([[-0.02963478,  0.00427134, -0.50489296,  0.61100139, -0.67894805,\n",
       "         0.49390907,  0.19579302, -0.11283846,  0.3325435 , -0.33251825,\n",
       "        -0.57787989,  0.35768693,  0.93538386,  0.26457143, -0.08022686,\n",
       "        -0.08368661,  0.85122106,  0.39684463, -0.43219156,  0.24221015,\n",
       "         1.08144586,  0.38133076, -1.33738422,  0.87128127, -0.02697527,\n",
       "        -0.39603442,  0.0852801 ,  0.1678749 ,  0.21916681,  0.34355233,\n",
       "         0.41508149,  0.3553498 ,  0.04544284,  0.3106166 ,  0.50525754,\n",
       "         0.16863004,  0.64724409]])"
      ]
     },
     "execution_count": 34,
     "metadata": {},
     "output_type": "execute_result"
    }
   ],
   "source": [
    "# model coefficients\n",
    "lg_model.coef_"
   ]
  },
  {
   "cell_type": "markdown",
   "metadata": {},
   "source": [
    "### Second Kaggle Submission"
   ]
  },
  {
   "cell_type": "code",
   "execution_count": 35,
   "metadata": {},
   "outputs": [],
   "source": [
    "# get submission file\n",
    "get_submission_file(lg_model, '02_lr.csv')"
   ]
  },
  {
   "cell_type": "markdown",
   "metadata": {},
   "source": [
    "### Hyperparameter Optimization"
   ]
  },
  {
   "cell_type": "code",
   "execution_count": 36,
   "metadata": {},
   "outputs": [],
   "source": [
    "# base model \n",
    "model_lr = LogisticRegression(random_state=0, solver='liblinear')"
   ]
  },
  {
   "cell_type": "code",
   "execution_count": 37,
   "metadata": {},
   "outputs": [],
   "source": [
    "from sklearn.model_selection import GridSearchCV"
   ]
  },
  {
   "cell_type": "code",
   "execution_count": 38,
   "metadata": {},
   "outputs": [],
   "source": [
    "parameters = {'C':[1.0, 10.0, 50.0, 100.0, 1000.0], 'penalty' : ['l1','l2'],'class_weight' : ['balanced',None], 'solver' : ['liblinear','saga'], 'max_iter' : [100,1000,10000]}\n",
    "lg_model_grid = GridSearchCV(model_lr, param_grid=parameters, cv=3)"
   ]
  },
  {
   "cell_type": "code",
   "execution_count": 39,
   "metadata": {},
   "outputs": [],
   "source": [
    "## Takes a couple of minutes\n",
    "from sklearn.utils.testing import ignore_warnings\n",
    "from sklearn.exceptions import ConvergenceWarning\n",
    "with ignore_warnings(category=ConvergenceWarning):\n",
    "    lg_model_grid.fit(X_train, y_train)"
   ]
  },
  {
   "cell_type": "code",
   "execution_count": 40,
   "metadata": {},
   "outputs": [
    {
     "data": {
      "text/plain": [
       "{'C': 1.0,\n",
       " 'class_weight': None,\n",
       " 'max_iter': 100,\n",
       " 'penalty': 'l1',\n",
       " 'solver': 'liblinear'}"
      ]
     },
     "execution_count": 40,
     "metadata": {},
     "output_type": "execute_result"
    }
   ],
   "source": [
    "lg_model_grid.best_params_"
   ]
  },
  {
   "cell_type": "code",
   "execution_count": 41,
   "metadata": {},
   "outputs": [
    {
     "name": "stdout",
     "output_type": "stream",
     "text": [
      "best score : 0.83\n"
     ]
    }
   ],
   "source": [
    "print ('best score : {0:.2f}'.format(lg_model_grid.best_score_))"
   ]
  },
  {
   "cell_type": "code",
   "execution_count": 42,
   "metadata": {},
   "outputs": [
    {
     "name": "stdout",
     "output_type": "stream",
     "text": [
      "score for logistic regression - version 2 : 0.83\n"
     ]
    }
   ],
   "source": [
    "# evaluate model\n",
    "print ('score for logistic regression - version 2 : {0:.2f}'.format(lg_model_grid.score(X_test, y_test)))"
   ]
  },
  {
   "cell_type": "markdown",
   "metadata": {},
   "source": [
    "### Making third submission"
   ]
  },
  {
   "cell_type": "code",
   "execution_count": 43,
   "metadata": {},
   "outputs": [],
   "source": [
    "# get submission file\n",
    "get_submission_file(lg_model_grid, '03_lr.csv')"
   ]
  },
  {
   "cell_type": "markdown",
   "metadata": {},
   "source": [
    "### Feature Normalization and Standardization"
   ]
  },
  {
   "cell_type": "code",
   "execution_count": 44,
   "metadata": {},
   "outputs": [],
   "source": [
    "from sklearn.preprocessing import MinMaxScaler, StandardScaler"
   ]
  },
  {
   "cell_type": "markdown",
   "metadata": {},
   "source": [
    "#### Feature Normalization"
   ]
  },
  {
   "cell_type": "code",
   "execution_count": 45,
   "metadata": {},
   "outputs": [],
   "source": [
    "# feature normalization\n",
    "scaler = MinMaxScaler()\n",
    "X_train_scaled = scaler.fit_transform(X_train)"
   ]
  },
  {
   "cell_type": "code",
   "execution_count": 46,
   "metadata": {},
   "outputs": [
    {
     "data": {
      "text/plain": [
       "(0.0, 1.0)"
      ]
     },
     "execution_count": 46,
     "metadata": {},
     "output_type": "execute_result"
    }
   ],
   "source": [
    "X_train_scaled[:,0].min(),X_train_scaled[:,0].max()"
   ]
  },
  {
   "cell_type": "code",
   "execution_count": 47,
   "metadata": {},
   "outputs": [],
   "source": [
    "# normalize test data\n",
    "X_test_scaled = scaler.transform(X_test)"
   ]
  },
  {
   "cell_type": "markdown",
   "metadata": {},
   "source": [
    "#### Feature Standardization"
   ]
  },
  {
   "cell_type": "code",
   "execution_count": 48,
   "metadata": {},
   "outputs": [
    {
     "data": {
      "text/plain": [
       "(-2.143955101825949, 3.8031127012897366)"
      ]
     },
     "execution_count": 48,
     "metadata": {},
     "output_type": "execute_result"
    }
   ],
   "source": [
    "# feature standardization\n",
    "scaler = StandardScaler()\n",
    "X_train_scaled = scaler.fit_transform(X_train)\n",
    "X_test_scaled = scaler.transform(X_test)\n",
    "X_train_scaled[:,0].min(),X_train_scaled[:,0].max()"
   ]
  },
  {
   "cell_type": "markdown",
   "metadata": {},
   "source": [
    "#### Create model after standardization"
   ]
  },
  {
   "cell_type": "code",
   "execution_count": 49,
   "metadata": {},
   "outputs": [
    {
     "data": {
      "text/plain": [
       "GridSearchCV(cv=3, error_score='raise-deprecating',\n",
       "             estimator=LogisticRegression(C=1.0, class_weight=None, dual=False,\n",
       "                                          fit_intercept=True,\n",
       "                                          intercept_scaling=1, l1_ratio=None,\n",
       "                                          max_iter=100, multi_class='warn',\n",
       "                                          n_jobs=None, penalty='l2',\n",
       "                                          random_state=0, solver='liblinear',\n",
       "                                          tol=0.0001, verbose=0,\n",
       "                                          warm_start=False),\n",
       "             iid='warn', n_jobs=None,\n",
       "             param_grid={'C': [1.0, 10.0, 50.0, 100.0, 1000.0],\n",
       "                         'penalty': ['l1', 'l2']},\n",
       "             pre_dispatch='2*n_jobs', refit=True, return_train_score=False,\n",
       "             scoring=None, verbose=0)"
      ]
     },
     "execution_count": 49,
     "metadata": {},
     "output_type": "execute_result"
    }
   ],
   "source": [
    "# base model \n",
    "model_lr = LogisticRegression(random_state=0, solver='liblinear')\n",
    "parameters = {'C':[1.0, 10.0, 50.0, 100.0, 1000.0], 'penalty' : ['l1','l2']}#,'max_iter' : [1000,5000,10000]} #,'class_weight' : ['balanced',None], 'solver' : ['liblinear'], 'max_iter' : [1000,5000,10000]}\n",
    "lg_model_grid_scaled = GridSearchCV(model_lr, param_grid=parameters, cv=3)\n",
    "lg_model_grid_scaled.fit(X_train_scaled, y_train)"
   ]
  },
  {
   "cell_type": "code",
   "execution_count": 50,
   "metadata": {},
   "outputs": [
    {
     "data": {
      "text/plain": [
       "0.8132022471910112"
      ]
     },
     "execution_count": 50,
     "metadata": {},
     "output_type": "execute_result"
    }
   ],
   "source": [
    "lg_model_grid_scaled.best_score_"
   ]
  },
  {
   "cell_type": "code",
   "execution_count": 51,
   "metadata": {},
   "outputs": [
    {
     "name": "stdout",
     "output_type": "stream",
     "text": [
      "score for logistic regression - version 2 : 0.84\n"
     ]
    }
   ],
   "source": [
    "# evaluate model\n",
    "print ('score for logistic regression - version 2 : {0:.2f}'.format(lg_model_grid_scaled.score(X_test_scaled, y_test)))"
   ]
  },
  {
   "cell_type": "code",
   "execution_count": 52,
   "metadata": {},
   "outputs": [
    {
     "data": {
      "image/png": "[encoded data removed]",
      "text/plain": [
       "<Figure size 432x288 with 1 Axes>"
      ]
     },
     "metadata": {
      "needs_background": "light"
     },
     "output_type": "display_data"
    }
   ],
   "source": [
    "scores = lg_model_grid_scaled.cv_results_['mean_test_score']\n",
    "scores = np.array(scores).reshape(len(parameters['C']), len(parameters['penalty']))\n",
    "\n",
    "for ind, i in enumerate(parameters['C']):\n",
    "    plt.plot(parameters['penalty'], scores[ind], label='C: ' + str(i))\n",
    "plt.legend()\n",
    "plt.xlabel('penalty')\n",
    "plt.ylabel('Mean score')\n",
    "plt.show()"
   ]
  },
  {
   "cell_type": "markdown",
   "metadata": {},
   "source": [
    "### Model Persistence\n"
   ]
  },
  {
   "cell_type": "code",
   "execution_count": 53,
   "metadata": {},
   "outputs": [],
   "source": [
    "# import pickle library\n",
    "import pickle"
   ]
  },
  {
   "cell_type": "code",
   "execution_count": 54,
   "metadata": {},
   "outputs": [],
   "source": [
    "# create the file paths\n",
    "model_file_path = os.path.join(os.path.pardir,'models','lr_model.pkl')\n",
    "scaler_file_path = os.path.join(os.path.pardir,'models','lr_scaler.pkl')"
   ]
  },
  {
   "cell_type": "code",
   "execution_count": 55,
   "metadata": {},
   "outputs": [],
   "source": [
    "# open the files to write \n",
    "model_file_pickle = open(model_file_path, 'wb')\n",
    "scaler_file_pickle = open(scaler_file_path, 'wb')"
   ]
  },
  {
   "cell_type": "code",
   "execution_count": 56,
   "metadata": {},
   "outputs": [],
   "source": [
    "# persist the model and scaler\n",
    "pickle.dump(lg_model_grid_scaled, model_file_pickle)\n",
    "pickle.dump(scaler, scaler_file_pickle)"
   ]
  },
  {
   "cell_type": "code",
   "execution_count": 57,
   "metadata": {},
   "outputs": [],
   "source": [
    "# close the file\n",
    "model_file_pickle.close()\n",
    "scaler_file_pickle.close()"
   ]
  },
  {
   "cell_type": "markdown",
   "metadata": {},
   "source": [
    "#### load the persisted file\n"
   ]
  },
  {
   "cell_type": "code",
   "execution_count": 58,
   "metadata": {},
   "outputs": [],
   "source": [
    "# open files in read mode\n",
    "model_file_pickle = open(model_file_path, 'rb')\n",
    "scaler_file_pickle = open(scaler_file_path, 'rb')\n",
    "# load files\n",
    "clf_loaded = pickle.load(model_file_pickle)\n",
    "scaler_loaded = pickle.load(scaler_file_pickle)\n",
    "# close files\n",
    "model_file_pickle.close()\n",
    "scaler_file_pickle.close()"
   ]
  },
  {
   "cell_type": "code",
   "execution_count": 59,
   "metadata": {},
   "outputs": [
    {
     "data": {
      "text/plain": [
       "GridSearchCV(cv=3, error_score='raise-deprecating',\n",
       "             estimator=LogisticRegression(C=1.0, class_weight=None, dual=False,\n",
       "                                          fit_intercept=True,\n",
       "                                          intercept_scaling=1, l1_ratio=None,\n",
       "                                          max_iter=100, multi_class='warn',\n",
       "                                          n_jobs=None, penalty='l2',\n",
       "                                          random_state=0, solver='liblinear',\n",
       "                                          tol=0.0001, verbose=0,\n",
       "                                          warm_start=False),\n",
       "             iid='warn', n_jobs=None,\n",
       "             param_grid={'C': [1.0, 10.0, 50.0, 100.0, 1000.0],\n",
       "                         'penalty': ['l1', 'l2']},\n",
       "             pre_dispatch='2*n_jobs', refit=True, return_train_score=False,\n",
       "             scoring=None, verbose=0)"
      ]
     },
     "execution_count": 59,
     "metadata": {},
     "output_type": "execute_result"
    }
   ],
   "source": [
    "clf_loaded"
   ]
  },
  {
   "cell_type": "code",
   "execution_count": 60,
   "metadata": {},
   "outputs": [
    {
     "data": {
      "text/plain": [
       "StandardScaler(copy=True, with_mean=True, with_std=True)"
      ]
     },
     "execution_count": 60,
     "metadata": {},
     "output_type": "execute_result"
    }
   ],
   "source": [
    "scaler_loaded"
   ]
  },
  {
   "cell_type": "code",
   "execution_count": 61,
   "metadata": {},
   "outputs": [
    {
     "name": "stdout",
     "output_type": "stream",
     "text": [
      "score for persisted logistic regression : 0.84\n"
     ]
    }
   ],
   "source": [
    "# transform the test data using loaded scaler object\n",
    "X_test_scaled = scaler_loaded.transform(X_test)\n",
    "# calculate the score using loaded model object \n",
    "print ('score for persisted logistic regression : {0:.2f}'.format(clf_loaded.score(X_test_scaled, y_test)))"
   ]
  },
  {
   "cell_type": "code",
   "execution_count": 62,
   "metadata": {},
   "outputs": [],
   "source": [
    "### Third Kaggle Submission"
   ]
  },
  {
   "cell_type": "code",
   "execution_count": 63,
   "metadata": {},
   "outputs": [],
   "source": [
    "def get_submission_file_with_standardization(model,filename, scaler):\n",
    "    # converting to the matrix\n",
    "    test_X = test_df.values.astype('float')\n",
    "    # standardization\n",
    "    if (scaler!=None):\n",
    "        test_X = scaler.transform(test_X)\n",
    "    # make predictions\n",
    "    predictions = model.predict(test_X)\n",
    "    # submission dataframe\n",
    "    df_submission = pd.DataFrame({'PassengerId': test_df.index, 'Survived' : predictions})\n",
    "    # submission file\n",
    "    submission_data_path = os.path.join(os.path.pardir,'data','external')\n",
    "    submission_file_path = os.path.join(submission_data_path, filename)\n",
    "    # write to the file\n",
    "    df_submission.to_csv(submission_file_path, index=False)"
   ]
  },
  {
   "cell_type": "code",
   "execution_count": 64,
   "metadata": {},
   "outputs": [],
   "source": [
    "# get submission file\n",
    "get_submission_file_with_standardization(lg_model_grid_scaled, '04_lr.csv', scaler)"
   ]
  },
  {
   "cell_type": "markdown",
   "metadata": {},
   "source": [
    "### Random Forest Model\n"
   ]
  },
  {
   "cell_type": "code",
   "execution_count": 65,
   "metadata": {},
   "outputs": [],
   "source": [
    "from sklearn.ensemble import RandomForestClassifier"
   ]
  },
  {
   "cell_type": "code",
   "execution_count": 66,
   "metadata": {},
   "outputs": [
    {
     "name": "stdout",
     "output_type": "stream",
     "text": [
      "score for random forest - version 1 : 0.82\n"
     ]
    }
   ],
   "source": [
    "random_forest_scaled = RandomForestClassifier(random_state=0,n_estimators=10)\n",
    "random_forest_scaled.fit(X_train_scaled, y_train)\n",
    "# evaluate model\n",
    "print ('score for random forest - version 1 : {0:.2f}'.format(random_forest_scaled.score(X_test_scaled, y_test)))"
   ]
  },
  {
   "cell_type": "code",
   "execution_count": 67,
   "metadata": {},
   "outputs": [
    {
     "name": "stdout",
     "output_type": "stream",
     "text": [
      "score for random forest - version 1 : 0.82\n"
     ]
    }
   ],
   "source": [
    "random_forest = RandomForestClassifier(random_state=0,n_estimators=10)\n",
    "random_forest.fit(X_train, y_train)\n",
    "# evaluate model\n",
    "print ('score for random forest - version 1 : {0:.2f}'.format(random_forest.score(X_test, y_test)))"
   ]
  },
  {
   "cell_type": "code",
   "execution_count": 68,
   "metadata": {},
   "outputs": [],
   "source": [
    "# get submission file\n",
    "get_submission_file_with_standardization(random_forest_scaled, '05_rf_scaled.csv', scaler)"
   ]
  },
  {
   "cell_type": "code",
   "execution_count": 69,
   "metadata": {},
   "outputs": [],
   "source": [
    "# get submission file\n",
    "get_submission_file_with_standardization(random_forest, '05_rf_notscaled.csv', None)"
   ]
  },
  {
   "cell_type": "code",
   "execution_count": 70,
   "metadata": {},
   "outputs": [
    {
     "name": "stdout",
     "output_type": "stream",
     "text": [
      "precision for random fores no scaled model : 0.80\n",
      "recall for random fores no scaled model : 0.70\n"
     ]
    }
   ],
   "source": [
    "print ('precision for random fores no scaled model : {0:.2f}'.format(precision_score(y_test, random_forest.predict(X_test))))\n",
    "\n",
    "print ('recall for random fores no scaled model : {0:.2f}'.format(recall_score(y_test, random_forest.predict(X_test))))"
   ]
  },
  {
   "cell_type": "code",
   "execution_count": 71,
   "metadata": {},
   "outputs": [
    {
     "name": "stdout",
     "output_type": "stream",
     "text": [
      "precision for random fores  scaled model : 0.80\n",
      "recall for random fores  scaled model : 0.70\n"
     ]
    }
   ],
   "source": [
    "print ('precision for random fores  scaled model : {0:.2f}'.format(precision_score(y_test, random_forest_scaled.predict(X_test_scaled))))\n",
    "\n",
    "print ('recall for random fores  scaled model : {0:.2f}'.format(recall_score(y_test, random_forest_scaled.predict(X_test_scaled))))"
   ]
  },
  {
   "cell_type": "markdown",
   "metadata": {},
   "source": [
    "### Hyperparameters tunning"
   ]
  },
  {
   "cell_type": "code",
   "execution_count": 72,
   "metadata": {},
   "outputs": [],
   "source": [
    "from sklearn.model_selection import GridSearchCV"
   ]
  },
  {
   "cell_type": "code",
   "execution_count": 73,
   "metadata": {},
   "outputs": [],
   "source": [
    "parameters = {'n_estimators':[50, 100, 200,1000], \n",
    "              'min_samples_leaf':[1, 5,10,50],\n",
    "              'max_features' : ('auto','sqrt','log2'),\n",
    "               }\n",
    "rf = RandomForestClassifier(random_state=0, oob_score=True)\n",
    "rf_grid = GridSearchCV(rf, parameters, cv=5)"
   ]
  },
  {
   "cell_type": "code",
   "execution_count": 74,
   "metadata": {},
   "outputs": [
    {
     "data": {
      "text/plain": [
       "GridSearchCV(cv=5, error_score='raise-deprecating',\n",
       "             estimator=RandomForestClassifier(bootstrap=True, class_weight=None,\n",
       "                                              criterion='gini', max_depth=None,\n",
       "                                              max_features='auto',\n",
       "                                              max_leaf_nodes=None,\n",
       "                                              min_impurity_decrease=0.0,\n",
       "                                              min_impurity_split=None,\n",
       "                                              min_samples_leaf=1,\n",
       "                                              min_samples_split=2,\n",
       "                                              min_weight_fraction_leaf=0.0,\n",
       "                                              n_estimators='warn', n_jobs=None,\n",
       "                                              oob_score=True, random_state=0,\n",
       "                                              verbose=0, warm_start=False),\n",
       "             iid='warn', n_jobs=None,\n",
       "             param_grid={'max_features': ('auto', 'sqrt', 'log2'),\n",
       "                         'min_samples_leaf': [1, 5, 10, 50],\n",
       "                         'n_estimators': [50, 100, 200, 1000]},\n",
       "             pre_dispatch='2*n_jobs', refit=True, return_train_score=False,\n",
       "             scoring=None, verbose=0)"
      ]
     },
     "execution_count": 74,
     "metadata": {},
     "output_type": "execute_result"
    }
   ],
   "source": [
    "rf_grid.fit(X_train, y_train)"
   ]
  },
  {
   "cell_type": "code",
   "execution_count": 75,
   "metadata": {},
   "outputs": [
    {
     "data": {
      "text/plain": [
       "RandomForestClassifier(bootstrap=True, class_weight=None, criterion='gini',\n",
       "                       max_depth=None, max_features='auto', max_leaf_nodes=None,\n",
       "                       min_impurity_decrease=0.0, min_impurity_split=None,\n",
       "                       min_samples_leaf=5, min_samples_split=2,\n",
       "                       min_weight_fraction_leaf=0.0, n_estimators=50,\n",
       "                       n_jobs=None, oob_score=True, random_state=0, verbose=0,\n",
       "                       warm_start=False)"
      ]
     },
     "execution_count": 75,
     "metadata": {},
     "output_type": "execute_result"
    }
   ],
   "source": [
    "rf_grid.best_estimator_"
   ]
  },
  {
   "cell_type": "code",
   "execution_count": 76,
   "metadata": {},
   "outputs": [
    {
     "name": "stdout",
     "output_type": "stream",
     "text": [
      "best score for random forest : 0.84\n",
      "rf_grid.best_estimator_: 0.84\n",
      "rf_grid.score : 0.84\n",
      "rf_grid_scaled.score : 0.84\n"
     ]
    }
   ],
   "source": [
    "# best score\n",
    "print ('best score for random forest : {0:.2f}'.format(rf_grid.best_score_))\n",
    "\n",
    "print ('rf_grid.best_estimator_: {0:.2f}'.format(rf_grid.best_estimator_.score(X_test, y_test)))\n",
    "print ('rf_grid.score : {0:.2f}'.format(rf_grid.score(X_test, y_test)))\n",
    "\n",
    "rf = RandomForestClassifier(random_state=0, oob_score=True)\n",
    "rf_grid_scaled = GridSearchCV(rf, parameters, cv=5)\n",
    "rf_grid_scaled.fit(X_train_scaled, y_train)\n",
    "print ('rf_grid_scaled.score : {0:.2f}'.format(rf_grid_scaled.score(X_test_scaled, y_test)))\n",
    "get_submission_file_with_standardization(rf_grid_scaled, '05_rf_hp_tunning_scaled.csv', scaler)"
   ]
  },
  {
   "cell_type": "code",
   "execution_count": 77,
   "metadata": {},
   "outputs": [],
   "source": [
    "# get submission file\n",
    "get_submission_file(rf_grid, '05_rf_hp_tunning.csv')"
   ]
  },
  {
   "cell_type": "markdown",
   "metadata": {},
   "source": [
    "### Confusion Metrics , Precision and Recall"
   ]
  },
  {
   "cell_type": "code",
   "execution_count": 78,
   "metadata": {},
   "outputs": [],
   "source": [
    "from sklearn.preprocessing import MinMaxScaler\n",
    "from sklearn import metrics"
   ]
  },
  {
   "cell_type": "code",
   "execution_count": 79,
   "metadata": {},
   "outputs": [],
   "source": [
    "scaler = MinMaxScaler()\n",
    "X_train_scaled = scaler.fit_transform(X_train)\n",
    "X_test_scaled = scaler.transform(X_test)"
   ]
  },
  {
   "cell_type": "code",
   "execution_count": 80,
   "metadata": {},
   "outputs": [],
   "source": [
    "from sklearn.linear_model import LogisticRegression"
   ]
  },
  {
   "cell_type": "code",
   "execution_count": 81,
   "metadata": {},
   "outputs": [],
   "source": [
    "model = LogisticRegression(random_state=0, solver='liblinear')"
   ]
  },
  {
   "cell_type": "code",
   "execution_count": 82,
   "metadata": {},
   "outputs": [
    {
     "data": {
      "text/plain": [
       "LogisticRegression(C=1.0, class_weight=None, dual=False, fit_intercept=True,\n",
       "                   intercept_scaling=1, l1_ratio=None, max_iter=100,\n",
       "                   multi_class='warn', n_jobs=None, penalty='l2',\n",
       "                   random_state=0, solver='liblinear', tol=0.0001, verbose=0,\n",
       "                   warm_start=False)"
      ]
     },
     "execution_count": 82,
     "metadata": {},
     "output_type": "execute_result"
    }
   ],
   "source": [
    "model.fit(X_train, y_train)"
   ]
  },
  {
   "cell_type": "code",
   "execution_count": 83,
   "metadata": {},
   "outputs": [
    {
     "data": {
      "text/plain": [
       "0.8324022346368715"
      ]
     },
     "execution_count": 83,
     "metadata": {},
     "output_type": "execute_result"
    }
   ],
   "source": [
    "model.score(X_test, y_test)"
   ]
  },
  {
   "cell_type": "code",
   "execution_count": 84,
   "metadata": {},
   "outputs": [
    {
     "data": {
      "text/plain": [
       "0.8231225296442688"
      ]
     },
     "execution_count": 84,
     "metadata": {},
     "output_type": "execute_result"
    }
   ],
   "source": [
    "pred = model.predict(X_test)\n",
    "fpr, tpr, thresholds = metrics.roc_curve(y_test, pred)\n",
    "metrics.auc(fpr, tpr)"
   ]
  },
  {
   "cell_type": "code",
   "execution_count": 85,
   "metadata": {},
   "outputs": [],
   "source": [
    "# Predict on Final Test data"
   ]
  },
  {
   "cell_type": "code",
   "execution_count": 86,
   "metadata": {},
   "outputs": [],
   "source": [
    "test_X = test_df.values.astype('float')"
   ]
  },
  {
   "cell_type": "code",
   "execution_count": 87,
   "metadata": {},
   "outputs": [],
   "source": [
    "test_X = scaler.transform(test_X)"
   ]
  },
  {
   "cell_type": "code",
   "execution_count": 88,
   "metadata": {},
   "outputs": [],
   "source": [
    "predictions = model.predict_proba(test_X)"
   ]
  },
  {
   "cell_type": "code",
   "execution_count": 89,
   "metadata": {},
   "outputs": [
    {
     "name": "stdout",
     "output_type": "stream",
     "text": [
      "(418, 2)\n"
     ]
    }
   ],
   "source": [
    "print (predictions.shape)"
   ]
  },
  {
   "cell_type": "markdown",
   "metadata": {},
   "source": [
    "# LightGBM"
   ]
  },
  {
   "cell_type": "code",
   "execution_count": 90,
   "metadata": {},
   "outputs": [],
   "source": [
    "#!pip install lightgbm\n",
    "#!brew install libomp"
   ]
  },
  {
   "cell_type": "code",
   "execution_count": 91,
   "metadata": {},
   "outputs": [
    {
     "name": "stderr",
     "output_type": "stream",
     "text": [
      "/Users/mildo/anaconda3/lib/python3.7/site-packages/lightgbm/__init__.py:46: UserWarning: Starting from version 2.2.1, the library file in distribution wheels for macOS is built by the Apple Clang (Xcode_8.3.3) compiler.\n",
      "This means that in case of installing LightGBM from PyPI via the ``pip install lightgbm`` command, you don't need to install the gcc compiler anymore.\n",
      "Instead of that, you need to install the OpenMP library, which is required for running LightGBM on the system with the Apple Clang compiler.\n",
      "You can install the OpenMP library by the following command: ``brew install libomp``.\n",
      "  \"You can install the OpenMP library by the following command: ``brew install libomp``.\", UserWarning)\n"
     ]
    }
   ],
   "source": [
    "from lightgbm import LGBMClassifier\n",
    "\n",
    "from sklearn.metrics import mean_squared_error\n",
    "from sklearn.model_selection import GridSearchCV"
   ]
  },
  {
   "cell_type": "code",
   "execution_count": 165,
   "metadata": {},
   "outputs": [
    {
     "name": "stdout",
     "output_type": "stream",
     "text": [
      "Best parameters found by grid search are: {'learning_rate': 0.355, 'n_estimators': 8, 'num_leaves': 25}\n",
      "Best parameters found by grid search are: 0.8441011235955056\n"
     ]
    }
   ],
   "source": [
    "estimator = LGBMClassifier(random_state=0)\n",
    "\n",
    "param_grid = {\n",
    "    'learning_rate': [ 0.345,0.35,0.355,0.36],\n",
    "    'n_estimators': [8,10,20],\n",
    "    'num_leaves' : [25] \n",
    "}\n",
    "\n",
    "lgbm = GridSearchCV(estimator, param_grid, cv=3)\n",
    "lgbm.fit(X_train, y_train)\n",
    "\n",
    "print('Best parameters found by grid search are:', lgbm.best_params_)\n",
    "print('Best parameters found by grid search are:', lgbm.best_score_)\n",
    "\n",
    "y_pred = lgbm.predict(X_test)\n"
   ]
  },
  {
   "cell_type": "code",
   "execution_count": 166,
   "metadata": {},
   "outputs": [
    {
     "name": "stdout",
     "output_type": "stream",
     "text": [
      "The rmse of prediction is: 0.4025061157105039\n"
     ]
    }
   ],
   "source": [
    "#{'learning_rate': 0.3, 'n_estimators': 10, 'num_leaves': 30} -->102+51\n",
    "#{'learning_rate': 0.35, 'n_estimators': 9, 'num_leaves': 28} --> 104+50\n",
    "#{'learning_rate': 0.35, 'n_estimators': 9, 'num_leaves': 26} --> 104+50\n",
    "#{'learning_rate': 0.35, 'n_estimators': 9, 'num_leaves': 25} --> 102 +52\n",
    "#{'learning_rate': 0.35, 'n_estimators': 9, 'num_leaves': 24} --> 103 +50\n",
    "model_lgbm = LGBMClassifier( random_state=0, learning_rate= 0.355, n_estimators = 8, num_leaves= 25)\n",
    "\n",
    "model_lgbm.fit(X_train, y_train)\n",
    "\n",
    "y_pred = model_lgbm.predict(X_test)\n",
    "\n",
    "# eval\n",
    "print('The rmse of prediction is:', mean_squared_error(y_test, y_pred) ** 0.5)"
   ]
  },
  {
   "cell_type": "code",
   "execution_count": 171,
   "metadata": {},
   "outputs": [
    {
     "name": "stdout",
     "output_type": "stream",
     "text": [
      "[[100  10]\n",
      " [ 19  50]]\n",
      "150\n",
      "precision for random fores no scaled model : 0.83\n",
      "recall for random fores no scaled model : 0.72\n",
      "score for random forest - version 1 : 0.86\n"
     ]
    }
   ],
   "source": [
    "labels = [0, 1]\n",
    "cm = confusion_matrix(y_test, model_lgbm.predict(X_test), labels=labels)\n",
    "print (cm)\n",
    "print(cm[0,0] + cm[1,1])\n",
    "print ('precision for random fores no scaled model : {0:.2f}'.format(precision_score(y_test, model_lgbm.predict(X_test))))\n",
    "\n",
    "print ('recall for random fores no scaled model : {0:.2f}'.format(recall_score(y_test, model_lgbm.predict(X_test))))\n",
    "# evaluate model\n",
    "\n",
    "print ('score for random forest - version 1 : {0:.2f}'.format((104+50)/(19+6+104+50)))"
   ]
  },
  {
   "cell_type": "code",
   "execution_count": 95,
   "metadata": {},
   "outputs": [
    {
     "name": "stdout",
     "output_type": "stream",
     "text": [
      "Best parameters found by grid search are: {'learning_rate': 0.3, 'n_estimators': 10, 'num_leaves': 30}\n"
     ]
    }
   ],
   "source": [
    "estimator = LGBMClassifier(random_state=0)\n",
    "\n",
    "param_grid = {\n",
    "    'learning_rate': [ 0.1,0.15,0.2,0.25,0.3],\n",
    "    'n_estimators': [10,20,30,40,50,70,100,130,150],\n",
    "    'num_leaves' : [30,50,70,100] \n",
    "}\n",
    "\n",
    "lgbm_scaled = GridSearchCV(estimator, param_grid, cv=3)\n",
    "lgbm_scaled.fit(X_train_scaled, y_train)\n",
    "\n",
    "print('Best parameters found by grid search are:', lgbm.best_params_)\n",
    "\n"
   ]
  },
  {
   "cell_type": "code",
   "execution_count": 96,
   "metadata": {},
   "outputs": [
    {
     "name": "stdout",
     "output_type": "stream",
     "text": [
      "The rmse of prediction is: 0.38111861230861543\n",
      "[[102   8]\n",
      " [ 18  51]]\n",
      "precision for random fores no scaled model : 0.86\n",
      "recall for random fores no scaled model : 0.74\n",
      "score for random forest - version 1 : 0.85\n"
     ]
    }
   ],
   "source": [
    "model_lgbm_scaled = LGBMClassifier( random_state=0, learning_rate = 0.3, n_estimators = 10, num_leaves = 30)\n",
    "\n",
    "model_lgbm_scaled.fit(X_train_scaled, y_train)\n",
    "\n",
    "y_pred = model_lgbm_scaled.predict(X_test_scaled)\n",
    "\n",
    "# eval\n",
    "print('The rmse of prediction is:', mean_squared_error(y_test, y_pred) ** 0.5)\n",
    "\n",
    "labels = [0, 1]\n",
    "cm = confusion_matrix(y_test, model_lgbm_scaled.predict(X_test_scaled), labels=labels)\n",
    "print (cm)\n",
    "\n",
    "print ('precision for random fores no scaled model : {0:.2f}'.format(precision_score(y_test, model_lgbm_scaled.predict(X_test_scaled))))\n",
    "\n",
    "print ('recall for random fores no scaled model : {0:.2f}'.format(recall_score(y_test, model_lgbm_scaled.predict(X_test_scaled))))\n",
    "# evaluate model\n",
    "\n",
    "print ('score for random forest - version 1 : {0:.2f}'.format((102+51)/(18+8+102+51)))"
   ]
  },
  {
   "cell_type": "code",
   "execution_count": 97,
   "metadata": {},
   "outputs": [],
   "source": [
    "# get submission file\n",
    "get_submission_file(model_lgbm, '06_lgbm_hp_tunning.csv')\n",
    "get_submission_file_with_standardization(model_lgbm_scaled, '06_lgbm_hp_tunning_scaled.csv', scaler)"
   ]
  },
  {
   "cell_type": "markdown",
   "metadata": {},
   "source": [
    "## SVC   C-Support Vector Classification."
   ]
  },
  {
   "cell_type": "code",
   "execution_count": 98,
   "metadata": {},
   "outputs": [
    {
     "name": "stdout",
     "output_type": "stream",
     "text": [
      "dict_keys(['C', 'cache_size', 'class_weight', 'coef0', 'decision_function_shape', 'degree', 'gamma', 'kernel', 'max_iter', 'probability', 'random_state', 'shrinking', 'tol', 'verbose'])\n",
      "SVC: 0.80\n",
      "{'C': 100, 'gamma': 0.001, 'kernel': 'rbf', 'probability': True}\n",
      "[[94 16]\n",
      " [20 49]]\n"
     ]
    }
   ],
   "source": [
    "from sklearn.svm import SVC, LinearSVC\n",
    "estimador = SVC(random_state=0)\n",
    "print (estimador.get_params().keys())\n",
    "parameters = {  'kernel': ['rbf'],\n",
    "    'C':     [7,8,9,10,20,25,30,70,100],\n",
    "    'gamma': [0.0001,0.001,0.008,0.009,0.01,0.011],\n",
    "    'probability': [True]\n",
    "}\n",
    "svc_grid = GridSearchCV(estimator=estimador, param_grid=parameters, cv=5, iid=False)\n",
    "svc_grid.fit(X_train, y_train)\n",
    "score = svc_grid.score(X_test, y_test)\n",
    "print('%s: %.2f' % (estimador.__class__.__name__, score))\n",
    "print(svc_grid.best_params_)\n",
    "# get submission file\n",
    "get_submission_file(svc_grid, '07_svc_hp_tunning.csv')\n",
    "labels = [0, 1]\n",
    "cm = confusion_matrix(y_test, svc_grid.predict(X_test), labels=labels)\n",
    "print (cm)"
   ]
  },
  {
   "cell_type": "markdown",
   "metadata": {},
   "source": [
    "## GradientBoosting Classifier"
   ]
  },
  {
   "cell_type": "code",
   "execution_count": 99,
   "metadata": {},
   "outputs": [],
   "source": [
    "from sklearn.ensemble import GradientBoostingClassifier\n",
    "estimador = GradientBoostingClassifier(random_state=0,n_estimators=50)\n",
    "estimador.get_params().keys()\n",
    "parameters = {'learning_rate': np.logspace(-4, 0, 10)}\n",
    "gradientBoosting = GridSearchCV(estimator=estimador, param_grid=parameters, cv=5, iid=False)\n"
   ]
  },
  {
   "cell_type": "code",
   "execution_count": 100,
   "metadata": {},
   "outputs": [
    {
     "name": "stdout",
     "output_type": "stream",
     "text": [
      "GridSearchCV: 0.82\n"
     ]
    }
   ],
   "source": [
    "gradientBoosting.fit(X_train, y_train)\n",
    "score = gradientBoosting.score(X_test, y_test)\n",
    "print('%s: %.2f' % (gradientBoosting.__class__.__name__, score))\n",
    "get_submission_file(gradientBoosting, '08_GradientBoosting_hp_tunning.csv')"
   ]
  },
  {
   "cell_type": "markdown",
   "metadata": {},
   "source": [
    "## Neural Networks"
   ]
  },
  {
   "cell_type": "code",
   "execution_count": 101,
   "metadata": {},
   "outputs": [
    {
     "name": "stdout",
     "output_type": "stream",
     "text": [
      "dict_keys(['activation', 'alpha', 'batch_size', 'beta_1', 'beta_2', 'early_stopping', 'epsilon', 'hidden_layer_sizes', 'learning_rate', 'learning_rate_init', 'max_iter', 'momentum', 'n_iter_no_change', 'nesterovs_momentum', 'power_t', 'random_state', 'shuffle', 'solver', 'tol', 'validation_fraction', 'verbose', 'warm_start'])\n"
     ]
    }
   ],
   "source": [
    "from sklearn.neural_network import MLPClassifier\n",
    "network = MLPClassifier( hidden_layer_sizes=(10,5, 2), random_state=0,max_iter=800)\n",
    "print (network.get_params().keys())\n"
   ]
  },
  {
   "cell_type": "code",
   "execution_count": 102,
   "metadata": {},
   "outputs": [
    {
     "name": "stdout",
     "output_type": "stream",
     "text": [
      "MLPClassifier: 0.61\n"
     ]
    }
   ],
   "source": [
    "network.fit(X_train, y_train)\n",
    "score = network.score(X_test, y_test)\n",
    "print('%s: %.2f' % (network.__class__.__name__, score))\n",
    "get_submission_file(network, '09_deepNN.csv')"
   ]
  },
  {
   "cell_type": "markdown",
   "metadata": {},
   "source": [
    "# Voting Classifier"
   ]
  },
  {
   "cell_type": "code",
   "execution_count": 105,
   "metadata": {},
   "outputs": [
    {
     "name": "stdout",
     "output_type": "stream",
     "text": [
      "VotingClassifier: 0.84\n"
     ]
    }
   ],
   "source": [
    "from sklearn.ensemble import RandomForestClassifier, VotingClassifier\n",
    "vc = VotingClassifier(estimators=[('network', network), ('gbc', gradientBoosting), ('svm', svc_grid),('model_lgbm_scaled', model_lgbm_scaled), ('model_lgbm', model_lgbm), ('rf_grid_scaled', rf_grid_scaled)], voting='soft', n_jobs=4, weights=[3,1,2,3,1,2])\n",
    "vc = vc.fit(X_train, y_train)\n",
    "score = vc.score(X_test, y_test)\n",
    "print('%s: %.2f' % (vc.__class__.__name__, score))"
   ]
  },
  {
   "cell_type": "markdown",
   "metadata": {},
   "source": [
    "# Summary"
   ]
  },
  {
   "cell_type": "code",
   "execution_count": 106,
   "metadata": {},
   "outputs": [
    {
     "name": "stdout",
     "output_type": "stream",
     "text": [
      "score for baseline model : 0.61\n",
      "score for lg_model     \t\t    : 0.75\n",
      "score for lg_model_grid \t\t: 0.75\n",
      "score for lg_model_grid_scaled  : 0.61\n",
      "score for random_forest_scaled  : 0.64\n",
      "score for random_forest    \t    : 0.82\n",
      "rf_grid.best_estimator_: 0.84\n",
      "rf_grid_scaled.score : 0.63\n",
      "model_lgbm\n",
      "[[102   8]\n",
      " [ 18  51]]\n",
      "model_lgbm\n",
      "[[102   8]\n",
      " [ 18  51]]\n",
      "svc_grid\n",
      "[[94 16]\n",
      " [20 49]]\n",
      "gradientBoosting\n",
      "GridSearchCV: 0.82\n",
      "network\n",
      "MLPClassifier: 0.61\n"
     ]
    }
   ],
   "source": [
    "print ('score for baseline model : {0:.2f}'.format(linear_model.score(X_test, y_test)))\n",
    "print ('score for lg_model     \t\t    : {0:.2f}'.format(lg_model.score(X_test_scaled, y_test)))\n",
    "print ('score for lg_model_grid \t\t: {0:.2f}'.format(lg_model_grid.score(X_test_scaled, y_test)))\n",
    "print ('score for lg_model_grid_scaled  : {0:.2f}'.format(lg_model_grid_scaled.score(X_test_scaled, y_test)))\n",
    "print ('score for random_forest_scaled  : {0:.2f}'.format(random_forest_scaled.score(X_test, y_test)))\n",
    "print ('score for random_forest    \t    : {0:.2f}'.format(random_forest.score(X_test, y_test)))\n",
    "print ('rf_grid.best_estimator_: {0:.2f}'.format(rf_grid.best_estimator_.score(X_test, y_test)))\n",
    "print ('rf_grid_scaled.score : {0:.2f}'.format(rf_grid_scaled.score(X_test_scaled, y_test)))\n",
    "print ('model_lgbm')\n",
    "labels = [0, 1]\n",
    "cm = confusion_matrix(y_test, model_lgbm.predict(X_test), labels=labels)\n",
    "print (cm)\n",
    "print ('model_lgbm')\n",
    "labels = [0, 1]\n",
    "cm = confusion_matrix(y_test, model_lgbm_scaled.predict(X_test_scaled), labels=labels)\n",
    "print (cm)\n",
    "print ('svc_grid')\n",
    "labels = [0, 1]\n",
    "cm = confusion_matrix(y_test, svc_grid.predict(X_test), labels=labels)\n",
    "print (cm)\n",
    "print ('gradientBoosting')\n",
    "print('%s: %.2f' % (gradientBoosting.__class__.__name__, gradientBoosting.score(X_test, y_test))) \n",
    "print ('network')\n",
    "score = network.score(X_test, y_test)\n",
    "print('%s: %.2f' % (network.__class__.__name__, score))"
   ]
  },
  {
   "cell_type": "code",
   "execution_count": null,
   "metadata": {},
   "outputs": [],
   "source": []
  }
 ],
 "metadata": {
  "kernelspec": {
   "display_name": "Python 3",
   "language": "python",
   "name": "python3"
  },
  "language_info": {
   "codemirror_mode": {
    "name": "ipython",
    "version": 3
   },
   "file_extension": ".py",
   "mimetype": "text/x-python",
   "name": "python",
   "nbconvert_exporter": "python",
   "pygments_lexer": "ipython3",
   "version": "3.7.3"
  }
 },
 "nbformat": 4,
 "nbformat_minor": 2
}
