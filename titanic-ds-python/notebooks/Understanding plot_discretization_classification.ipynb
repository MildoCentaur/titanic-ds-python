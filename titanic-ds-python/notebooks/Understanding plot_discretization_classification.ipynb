{
 "cells": [
  {
   "cell_type": "code",
   "execution_count": 1,
   "metadata": {},
   "outputs": [
    {
     "name": "stdout",
     "output_type": "stream",
     "text": [
      "Automatically created module for IPython interactive environment\n"
     ]
    }
   ],
   "source": [
    "import numpy as np\n",
    "import matplotlib.pyplot as plt\n",
    "from matplotlib.colors import ListedColormap\n",
    "from sklearn.model_selection import train_test_split\n",
    "from sklearn.preprocessing import StandardScaler\n",
    "from sklearn.datasets import make_moons, make_circles, make_classification\n",
    "from sklearn.linear_model import LogisticRegression\n",
    "from sklearn.model_selection import GridSearchCV\n",
    "from sklearn.pipeline import make_pipeline\n",
    "from sklearn.preprocessing import KBinsDiscretizer\n",
    "from sklearn.svm import SVC, LinearSVC\n",
    "from sklearn.ensemble import GradientBoostingClassifier\n",
    "from sklearn.utils.testing import ignore_warnings\n",
    "from sklearn.exceptions import ConvergenceWarning\n",
    "\n",
    "print(__doc__)"
   ]
  },
  {
   "cell_type": "code",
   "execution_count": 2,
   "metadata": {},
   "outputs": [],
   "source": [
    "# list of (estimator, param_grid), where param_grid is used in GridSearchCV\n",
    "classifiers = [\n",
    "    (LogisticRegression(solver='liblinear', random_state=0), {\n",
    "        'C': np.logspace(-2, 7, 10)\n",
    "    }),\n",
    "    (LinearSVC(random_state=0), {\n",
    "        'C': np.logspace(-2, 7, 10)\n",
    "    }),\n",
    "    (make_pipeline(\n",
    "        KBinsDiscretizer(encode='onehot'),\n",
    "        LogisticRegression(solver='liblinear', random_state=0)), {\n",
    "            'kbinsdiscretizer__n_bins': np.arange(2, 5),\n",
    "            'logisticregression__C': np.logspace(-2, 7, 10),\n",
    "        }),\n",
    "    (make_pipeline(\n",
    "        KBinsDiscretizer(encode='onehot'), LinearSVC(random_state=0)), {\n",
    "            'kbinsdiscretizer__n_bins': np.arange(2, 5),\n",
    "            'linearsvc__C': np.logspace(-2, 7, 10),\n",
    "        }),\n",
    "    (GradientBoostingClassifier(n_estimators=50, random_state=0), {\n",
    "        'learning_rate': np.logspace(-4, 0, 10)\n",
    "    }),\n",
    "    (SVC(random_state=0, gamma='scale'), {\n",
    "        'C': np.logspace(-2, 7, 10)\n",
    "    }),\n",
    "]"
   ]
  },
  {
   "cell_type": "code",
   "execution_count": 3,
   "metadata": {},
   "outputs": [],
   "source": [
    "def get_name(estimator):\n",
    "    name = estimator.__class__.__name__\n",
    "    if name == 'Pipeline':\n",
    "        name = [get_name(est[1]) for est in estimator.steps]\n",
    "        name = ' + '.join(name)\n",
    "    return name"
   ]
  },
  {
   "cell_type": "code",
   "execution_count": 4,
   "metadata": {},
   "outputs": [
    {
     "name": "stdout",
     "output_type": "stream",
     "text": [
      "['LogisticRegression', 'LinearSVC', 'KBinsDiscretizer + LogisticRegression', 'KBinsDiscretizer + LinearSVC', 'GradientBoostingClassifier', 'SVC']\n"
     ]
    }
   ],
   "source": [
    "# De la lista de tuplas Classifiers toma los elementos por separado\n",
    "# e estiamtor y g gridParameter\n",
    "names = [get_name(e) for e, g in classifiers]\n",
    "print (names)"
   ]
  },
  {
   "cell_type": "code",
   "execution_count": 5,
   "metadata": {},
   "outputs": [
    {
     "name": "stdout",
     "output_type": "stream",
     "text": [
      "(712, 32) (712,)\n",
      "(179, 32) (179,)\n",
      "mean survival in train : 0.383\n",
      "mean survival in test : 0.385\n"
     ]
    }
   ],
   "source": [
    "import pandas as pd\n",
    "import os\n",
    "import numpy as np\n",
    "# set the path of the processed data\n",
    "processed_data_path = os.path.join(os.path.pardir,'data','processed')\n",
    "train_file_path = os.path.join(processed_data_path, 'train.csv')\n",
    "test_file_path = os.path.join(processed_data_path, 'test.csv')\n",
    "train_df = pd.read_csv(train_file_path, index_col='PassengerId')\n",
    "test_df = pd.read_csv(test_file_path, index_col='PassengerId')\n",
    "X = train_df.loc[:,'Age':].values.astype('float')\n",
    "# uso ravel para convertir el dataframe en un arrego 1D \n",
    "# podria haber usado train_df['Survived'].values y obtenia el mismo resultado\n",
    "# si en lugar de tener un dataset hubiese tenido un arreglo no hubiese tenido la propiedad values\n",
    "\n",
    "y = train_df['Survived'].ravel()\n",
    "X_train, X_test, y_train, y_test = train_test_split(X, y, test_size=0.2, random_state=0)\n",
    "print (X_train.shape, y_train.shape)\n",
    "print (X_test.shape, y_test.shape)\n",
    "print ('mean survival in train : {0:.3f}'.format(np.mean(y_train)))\n",
    "print ('mean survival in test : {0:.3f}'.format(np.mean(y_test)))"
   ]
  },
  {
   "cell_type": "code",
   "execution_count": 13,
   "metadata": {},
   "outputs": [
    {
     "name": "stdout",
     "output_type": "stream",
     "text": [
      "SVC: 0.79\n"
     ]
    }
   ],
   "source": [
    "# iterate over classifiers\n",
    "estimador = GradientBoostingClassifier(random_state=0)\n",
    "estimador.get_params().keys()\n",
    "parameters = {'learning_rate': np.logspace(-4, 0, 10) ,'n_estimators' : np.arange(40,60),'max_depth':np.arange(2,10)}\n",
    "clf = GridSearchCV(estimator=estimador, param_grid=parameters, cv=5, iid=False)\n",
    "clf.fit(X_train, y_train)\n",
    "score = clf.score(X_test, y_test)\n",
    "print('%s: %.2f' % (estimator.__class__.__name__, score))\n",
    "    "
   ]
  },
  {
   "cell_type": "code",
   "execution_count": 17,
   "metadata": {},
   "outputs": [
    {
     "name": "stdout",
     "output_type": "stream",
     "text": [
      "GradientBoostingClassifier: 0.79\n"
     ]
    }
   ],
   "source": [
    "score = clf.score(X_test, y_test)\n",
    "print('%s: %.2f' % (estimador.__class__.__name__, score))\n"
   ]
  },
  {
   "cell_type": "code",
   "execution_count": 22,
   "metadata": {},
   "outputs": [
    {
     "name": "stdout",
     "output_type": "stream",
     "text": [
      "MLPClassifier: 0.61\n"
     ]
    }
   ],
   "source": [
    "from sklearn.neural_network import MLPClassifier\n",
    "clf = MLPClassifier(solver='lbfgs', alpha=1e-5, hidden_layer_sizes=(5, 2), random_state=0)\n",
    "estimador.get_params().keys()\n",
    "#parameters = {'learning_rate': np.logspace(-4, 0, 10) ,'n_estimators' : np.arange(40,60),'max_depth':np.arange(2,10)}\n",
    "#clf = GridSearchCV(estimator=estimador, param_grid=parameters, cv=5, iid=False)\n",
    "clf.fit(X_train, y_train)\n",
    "score = clf.score(X_test, y_test)\n",
    "print('%s: %.2f' % (estimador.__class__.__name__, score))"
   ]
  },
  {
   "cell_type": "code",
   "execution_count": null,
   "metadata": {},
   "outputs": [],
   "source": []
  }
 ],
 "metadata": {
  "kernelspec": {
   "display_name": "Python 3",
   "language": "python",
   "name": "python3"
  },
  "language_info": {
   "codemirror_mode": {
    "name": "ipython",
    "version": 3
   },
   "file_extension": ".py",
   "mimetype": "text/x-python",
   "name": "python",
   "nbconvert_exporter": "python",
   "pygments_lexer": "ipython3",
   "version": "3.7.3"
  }
 },
 "nbformat": 4,
 "nbformat_minor": 2
}
